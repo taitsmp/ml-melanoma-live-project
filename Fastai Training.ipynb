{
 "cells": [
  {
   "cell_type": "markdown",
   "metadata": {},
   "source": [
    "### Fast.ai Training Loop\n",
    "\n",
    "Attempt the third week of this course with Fast.ai instead.  See if it simplifies learning on less data and gets better results. \n",
    "\n",
    "* Example of working with overhead data - https://github.com/fastai/fastai/blob/master/dev_nbs/course/lesson3-planet.ipynb\n",
    "* Working with existing pytorch code - https://docs.fast.ai/migrating_pytorch\n",
    "* MNIST with Fast.ai - https://github.com/fastai/course-v3/blob/master/nbs/dl1/lesson7-resnet-mnist.ipynb\n",
    "\n",
    "#### Next Steps\n",
    "\n",
    "* These images are really small.  32x32x3. Most similar to MNIST. What does that network look like? Should you consider a very simple network?\n",
    "* Try data augmentation? \n"
   ]
  },
  {
   "cell_type": "code",
   "execution_count": 1,
   "metadata": {},
   "outputs": [],
   "source": [
    "url = 'https://liveproject-resources.s3.amazonaws.com/other/MelanomaDetection.zip'\n",
    "pth = './data/MelanomaDetection.zip'\n",
    "unp = './data/MelanomaDetection'\n",
    "bs  = 24"
   ]
  },
  {
   "cell_type": "code",
   "execution_count": 2,
   "metadata": {},
   "outputs": [],
   "source": [
    "import os"
   ]
  },
  {
   "cell_type": "code",
   "execution_count": 3,
   "metadata": {},
   "outputs": [],
   "source": [
    "#os.environ['CUDA_VISIBLE_DEVICES'] = '0'\n"
   ]
  },
  {
   "cell_type": "code",
   "execution_count": 4,
   "metadata": {},
   "outputs": [],
   "source": [
    "from fastai.vision.all import *\n",
    "from fastai.data.all import *\n",
    "from fastai.callback.all import *"
   ]
  },
  {
   "cell_type": "code",
   "execution_count": 5,
   "metadata": {},
   "outputs": [],
   "source": [
    "import torch\n",
    "import torchvision\n",
    "from sklearn.model_selection import train_test_split\n",
    "from torch.nn import BCELoss, BCEWithLogitsLoss, CrossEntropyLoss #not sure which I'd like to use. \n",
    "from torch.nn import Linear\n",
    "from torch.optim import Adam, SGD\n",
    "from torch.utils.data import Dataset, DataLoader, Subset, SubsetRandomSampler\n",
    "from torch.optim.lr_scheduler import CyclicLR, OneCycleLR\n",
    "\n",
    "import numpy as np"
   ]
  },
  {
   "cell_type": "code",
   "execution_count": 6,
   "metadata": {},
   "outputs": [],
   "source": [
    "%load_ext autoreload\n",
    "%autoreload 2\n",
    "\n",
    "from utils import *"
   ]
  },
  {
   "cell_type": "code",
   "execution_count": 7,
   "metadata": {},
   "outputs": [
    {
     "name": "stdout",
     "output_type": "stream",
     "text": [
      "2\n"
     ]
    },
    {
     "data": {
      "text/plain": [
       "True"
      ]
     },
     "execution_count": 7,
     "metadata": {},
     "output_type": "execute_result"
    }
   ],
   "source": [
    "print(torch.cuda.device_count())\n",
    "torch.cuda.is_available()"
   ]
  },
  {
   "cell_type": "code",
   "execution_count": 8,
   "metadata": {},
   "outputs": [],
   "source": [
    "labeledSet = MILabeled(unp + '/labeled', ToTensor())\n",
    "\n",
    "sd = 43\n",
    "cs = len(labeledSet)\n",
    "ci = range(0, cs)\n",
    "train_idxs, test_idxs = train_test_split(ci, random_state=sd, train_size=0.75)\n",
    "\n",
    "train_sampler = SubsetRandomSampler(train_idxs) #subset would work just fine here too I think. \n",
    "test_sampler  = SubsetRandomSampler(test_idxs)\n"
   ]
  },
  {
   "cell_type": "code",
   "execution_count": 16,
   "metadata": {},
   "outputs": [],
   "source": [
    "labeled_ds = MILabeled(unp + '/labeled', ToTensor())\n",
    "train_dl = DataLoader(labeled_ds, batch_size=bs, sampler=train_sampler)\n",
    "test_dl = DataLoader(labeled_ds, batch_size=bs, sampler=test_sampler)"
   ]
  },
  {
   "cell_type": "code",
   "execution_count": 8,
   "metadata": {},
   "outputs": [],
   "source": [
    "data = DataLoaders(train_dl, test_dl)"
   ]
  },
  {
   "cell_type": "code",
   "execution_count": 22,
   "metadata": {
    "scrolled": true
   },
   "outputs": [
    {
     "ename": "AttributeError",
     "evalue": "'DataLoader' object has no attribute 'after_batch'",
     "output_type": "error",
     "traceback": [
      "\u001b[0;31m---------------------------------------------------------------------------\u001b[0m",
      "\u001b[0;31mAttributeError\u001b[0m                            Traceback (most recent call last)",
      "\u001b[0;32m<ipython-input-22-2a0cd4742476>\u001b[0m in \u001b[0;36m<module>\u001b[0;34m\u001b[0m\n\u001b[0;32m----> 1\u001b[0;31m \u001b[0mlearn\u001b[0m \u001b[0;34m=\u001b[0m \u001b[0mcnn_learner\u001b[0m\u001b[0;34m(\u001b[0m\u001b[0mdata\u001b[0m\u001b[0;34m,\u001b[0m \u001b[0mresnet34\u001b[0m\u001b[0;34m,\u001b[0m \u001b[0mmetrics\u001b[0m\u001b[0;34m=\u001b[0m\u001b[0merror_rate\u001b[0m\u001b[0;34m,\u001b[0m \u001b[0mn_out\u001b[0m\u001b[0;34m=\u001b[0m\u001b[0;36m2\u001b[0m\u001b[0;34m)\u001b[0m\u001b[0;34m\u001b[0m\u001b[0;34m\u001b[0m\u001b[0m\n\u001b[0m",
      "\u001b[0;32m~/anaconda3/envs/fastai-v2/lib/python3.8/site-packages/fastai/vision/learner.py\u001b[0m in \u001b[0;36mcnn_learner\u001b[0;34m(dls, arch, loss_func, pretrained, cut, splitter, y_range, config, n_out, normalize, **kwargs)\u001b[0m\n\u001b[1;32m    170\u001b[0m     \u001b[0;32mif\u001b[0m \u001b[0mn_out\u001b[0m \u001b[0;32mis\u001b[0m \u001b[0;32mNone\u001b[0m\u001b[0;34m:\u001b[0m \u001b[0mn_out\u001b[0m \u001b[0;34m=\u001b[0m \u001b[0mget_c\u001b[0m\u001b[0;34m(\u001b[0m\u001b[0mdls\u001b[0m\u001b[0;34m)\u001b[0m\u001b[0;34m\u001b[0m\u001b[0;34m\u001b[0m\u001b[0m\n\u001b[1;32m    171\u001b[0m     \u001b[0;32massert\u001b[0m \u001b[0mn_out\u001b[0m\u001b[0;34m,\u001b[0m \u001b[0;34m\"`n_out` is not defined, and could not be inferred from data, set `dls.c` or pass `n_out`\"\u001b[0m\u001b[0;34m\u001b[0m\u001b[0;34m\u001b[0m\u001b[0m\n\u001b[0;32m--> 172\u001b[0;31m     \u001b[0;32mif\u001b[0m \u001b[0mnormalize\u001b[0m\u001b[0;34m:\u001b[0m \u001b[0m_add_norm\u001b[0m\u001b[0;34m(\u001b[0m\u001b[0mdls\u001b[0m\u001b[0;34m,\u001b[0m \u001b[0mmeta\u001b[0m\u001b[0;34m,\u001b[0m \u001b[0mpretrained\u001b[0m\u001b[0;34m)\u001b[0m\u001b[0;34m\u001b[0m\u001b[0;34m\u001b[0m\u001b[0m\n\u001b[0m\u001b[1;32m    173\u001b[0m     \u001b[0;32mif\u001b[0m \u001b[0my_range\u001b[0m \u001b[0;32mis\u001b[0m \u001b[0;32mNone\u001b[0m \u001b[0;32mand\u001b[0m \u001b[0;34m'y_range'\u001b[0m \u001b[0;32min\u001b[0m \u001b[0mconfig\u001b[0m\u001b[0;34m:\u001b[0m \u001b[0my_range\u001b[0m \u001b[0;34m=\u001b[0m \u001b[0mconfig\u001b[0m\u001b[0;34m.\u001b[0m\u001b[0mpop\u001b[0m\u001b[0;34m(\u001b[0m\u001b[0;34m'y_range'\u001b[0m\u001b[0;34m)\u001b[0m\u001b[0;34m\u001b[0m\u001b[0;34m\u001b[0m\u001b[0m\n\u001b[1;32m    174\u001b[0m     \u001b[0mmodel\u001b[0m \u001b[0;34m=\u001b[0m \u001b[0mcreate_cnn_model\u001b[0m\u001b[0;34m(\u001b[0m\u001b[0march\u001b[0m\u001b[0;34m,\u001b[0m \u001b[0mn_out\u001b[0m\u001b[0;34m,\u001b[0m \u001b[0mifnone\u001b[0m\u001b[0;34m(\u001b[0m\u001b[0mcut\u001b[0m\u001b[0;34m,\u001b[0m \u001b[0mmeta\u001b[0m\u001b[0;34m[\u001b[0m\u001b[0;34m'cut'\u001b[0m\u001b[0;34m]\u001b[0m\u001b[0;34m)\u001b[0m\u001b[0;34m,\u001b[0m \u001b[0mpretrained\u001b[0m\u001b[0;34m,\u001b[0m \u001b[0my_range\u001b[0m\u001b[0;34m=\u001b[0m\u001b[0my_range\u001b[0m\u001b[0;34m,\u001b[0m \u001b[0;34m**\u001b[0m\u001b[0mconfig\u001b[0m\u001b[0;34m)\u001b[0m\u001b[0;34m\u001b[0m\u001b[0;34m\u001b[0m\u001b[0m\n",
      "\u001b[0;32m~/anaconda3/envs/fastai-v2/lib/python3.8/site-packages/fastai/vision/learner.py\u001b[0m in \u001b[0;36m_add_norm\u001b[0;34m(dls, meta, pretrained)\u001b[0m\n\u001b[1;32m    155\u001b[0m \u001b[0;32mdef\u001b[0m \u001b[0m_add_norm\u001b[0m\u001b[0;34m(\u001b[0m\u001b[0mdls\u001b[0m\u001b[0;34m,\u001b[0m \u001b[0mmeta\u001b[0m\u001b[0;34m,\u001b[0m \u001b[0mpretrained\u001b[0m\u001b[0;34m)\u001b[0m\u001b[0;34m:\u001b[0m\u001b[0;34m\u001b[0m\u001b[0;34m\u001b[0m\u001b[0m\n\u001b[1;32m    156\u001b[0m     \u001b[0;32mif\u001b[0m \u001b[0;32mnot\u001b[0m \u001b[0mpretrained\u001b[0m\u001b[0;34m:\u001b[0m \u001b[0;32mreturn\u001b[0m\u001b[0;34m\u001b[0m\u001b[0;34m\u001b[0m\u001b[0m\n\u001b[0;32m--> 157\u001b[0;31m     \u001b[0mafter_batch\u001b[0m \u001b[0;34m=\u001b[0m \u001b[0mdls\u001b[0m\u001b[0;34m.\u001b[0m\u001b[0mafter_batch\u001b[0m\u001b[0;34m\u001b[0m\u001b[0;34m\u001b[0m\u001b[0m\n\u001b[0m\u001b[1;32m    158\u001b[0m     \u001b[0;32mif\u001b[0m \u001b[0mfirst\u001b[0m\u001b[0;34m(\u001b[0m\u001b[0mo\u001b[0m \u001b[0;32mfor\u001b[0m \u001b[0mo\u001b[0m \u001b[0;32min\u001b[0m \u001b[0mafter_batch\u001b[0m\u001b[0;34m.\u001b[0m\u001b[0mfs\u001b[0m \u001b[0;32mif\u001b[0m \u001b[0misinstance\u001b[0m\u001b[0;34m(\u001b[0m\u001b[0mo\u001b[0m\u001b[0;34m,\u001b[0m\u001b[0mNormalize\u001b[0m\u001b[0;34m)\u001b[0m\u001b[0;34m)\u001b[0m\u001b[0;34m:\u001b[0m \u001b[0;32mreturn\u001b[0m\u001b[0;34m\u001b[0m\u001b[0;34m\u001b[0m\u001b[0m\n\u001b[1;32m    159\u001b[0m     \u001b[0mstats\u001b[0m \u001b[0;34m=\u001b[0m \u001b[0mmeta\u001b[0m\u001b[0;34m.\u001b[0m\u001b[0mget\u001b[0m\u001b[0;34m(\u001b[0m\u001b[0;34m'stats'\u001b[0m\u001b[0;34m)\u001b[0m\u001b[0;34m\u001b[0m\u001b[0;34m\u001b[0m\u001b[0m\n",
      "\u001b[0;32m~/anaconda3/envs/fastai-v2/lib/python3.8/site-packages/fastcore/foundation.py\u001b[0m in \u001b[0;36m__getattr__\u001b[0;34m(self, k)\u001b[0m\n\u001b[1;32m    133\u001b[0m         \u001b[0;32mif\u001b[0m \u001b[0mself\u001b[0m\u001b[0;34m.\u001b[0m\u001b[0m_component_attr_filter\u001b[0m\u001b[0;34m(\u001b[0m\u001b[0mk\u001b[0m\u001b[0;34m)\u001b[0m\u001b[0;34m:\u001b[0m\u001b[0;34m\u001b[0m\u001b[0;34m\u001b[0m\u001b[0m\n\u001b[1;32m    134\u001b[0m             \u001b[0mattr\u001b[0m \u001b[0;34m=\u001b[0m \u001b[0mgetattr\u001b[0m\u001b[0;34m(\u001b[0m\u001b[0mself\u001b[0m\u001b[0;34m,\u001b[0m\u001b[0mself\u001b[0m\u001b[0;34m.\u001b[0m\u001b[0m_default\u001b[0m\u001b[0;34m,\u001b[0m\u001b[0;32mNone\u001b[0m\u001b[0;34m)\u001b[0m\u001b[0;34m\u001b[0m\u001b[0;34m\u001b[0m\u001b[0m\n\u001b[0;32m--> 135\u001b[0;31m             \u001b[0;32mif\u001b[0m \u001b[0mattr\u001b[0m \u001b[0;32mis\u001b[0m \u001b[0;32mnot\u001b[0m \u001b[0;32mNone\u001b[0m\u001b[0;34m:\u001b[0m \u001b[0;32mreturn\u001b[0m \u001b[0mgetattr\u001b[0m\u001b[0;34m(\u001b[0m\u001b[0mattr\u001b[0m\u001b[0;34m,\u001b[0m\u001b[0mk\u001b[0m\u001b[0;34m)\u001b[0m\u001b[0;34m\u001b[0m\u001b[0;34m\u001b[0m\u001b[0m\n\u001b[0m\u001b[1;32m    136\u001b[0m         \u001b[0;32mraise\u001b[0m \u001b[0mAttributeError\u001b[0m\u001b[0;34m(\u001b[0m\u001b[0mk\u001b[0m\u001b[0;34m)\u001b[0m\u001b[0;34m\u001b[0m\u001b[0;34m\u001b[0m\u001b[0m\n\u001b[1;32m    137\u001b[0m     \u001b[0;32mdef\u001b[0m \u001b[0m__dir__\u001b[0m\u001b[0;34m(\u001b[0m\u001b[0mself\u001b[0m\u001b[0;34m)\u001b[0m\u001b[0;34m:\u001b[0m \u001b[0;32mreturn\u001b[0m \u001b[0mcustom_dir\u001b[0m\u001b[0;34m(\u001b[0m\u001b[0mself\u001b[0m\u001b[0;34m,\u001b[0m\u001b[0mself\u001b[0m\u001b[0;34m.\u001b[0m\u001b[0m_dir\u001b[0m\u001b[0;34m(\u001b[0m\u001b[0;34m)\u001b[0m\u001b[0;34m)\u001b[0m\u001b[0;34m\u001b[0m\u001b[0;34m\u001b[0m\u001b[0m\n",
      "\u001b[0;31mAttributeError\u001b[0m: 'DataLoader' object has no attribute 'after_batch'"
     ]
    }
   ],
   "source": [
    "learn = cnn_learner(data, resnet34, metrics=error_rate, n_out=2)\n",
    "\n",
    "### LEFT OFF HERE. PROBABLY SIMPLER TO JUST USE FASTAI DATALOADERS.\n",
    "#\n",
    "# "
   ]
  },
  {
   "cell_type": "code",
   "execution_count": 6,
   "metadata": {},
   "outputs": [],
   "source": [
    "#I couldn't get this to work with CUDA. Let's try it without. \n",
    "\n",
    "#default_device(use_cuda=False)\n",
    "\n",
    "\n",
    "#try the second gpu I have. This often fails\n",
    "#torch.cuda.set_device('cuda:1')\n",
    "#default_device(use_cuda=True)"
   ]
  },
  {
   "cell_type": "markdown",
   "metadata": {},
   "source": [
    "### FastAi Vision Data loader\n"
   ]
  },
  {
   "cell_type": "code",
   "execution_count": 9,
   "metadata": {},
   "outputs": [],
   "source": [
    "path  = unp + '/labeled'\n",
    "files = get_image_files(path)\n",
    "dls = ImageDataLoaders.from_name_re(path, files, r'\\w+_([01]).jpg')  #Note: you can explicity set the device here too. "
   ]
  },
  {
   "cell_type": "code",
   "execution_count": 10,
   "metadata": {},
   "outputs": [
    {
     "data": {
      "text/plain": [
       "(TensorImage([[[[0.7529, 0.7686, 0.7882,  ..., 0.8353, 0.8196, 0.8118],\n",
       "           [0.7608, 0.7765, 0.8039,  ..., 0.8431, 0.8235, 0.8196],\n",
       "           [0.7804, 0.7961, 0.8196,  ..., 0.8510, 0.8392, 0.8314],\n",
       "           ...,\n",
       "           [0.7765, 0.7843, 0.7922,  ..., 0.7961, 0.7882, 0.7765],\n",
       "           [0.7647, 0.7765, 0.7843,  ..., 0.7882, 0.7804, 0.7725],\n",
       "           [0.7647, 0.7686, 0.7804,  ..., 0.7843, 0.7804, 0.7765]],\n",
       " \n",
       "          [[0.7333, 0.7490, 0.7608,  ..., 0.7725, 0.7647, 0.7569],\n",
       "           [0.7412, 0.7529, 0.7647,  ..., 0.7804, 0.7686, 0.7647],\n",
       "           [0.7451, 0.7608, 0.7765,  ..., 0.7882, 0.7765, 0.7686],\n",
       "           ...,\n",
       "           [0.6745, 0.6824, 0.6902,  ..., 0.7176, 0.7098, 0.7059],\n",
       "           [0.6627, 0.6745, 0.6824,  ..., 0.7098, 0.7098, 0.7020],\n",
       "           [0.6549, 0.6667, 0.6784,  ..., 0.7059, 0.7098, 0.7059]],\n",
       " \n",
       "          [[0.7490, 0.7647, 0.7882,  ..., 0.8235, 0.8157, 0.8078],\n",
       "           [0.7569, 0.7686, 0.7961,  ..., 0.8235, 0.8196, 0.8157],\n",
       "           [0.7647, 0.7804, 0.8078,  ..., 0.8314, 0.8196, 0.8118],\n",
       "           ...,\n",
       "           [0.6706, 0.6784, 0.6863,  ..., 0.6902, 0.6745, 0.6667],\n",
       "           [0.6588, 0.6706, 0.6784,  ..., 0.6824, 0.6706, 0.6549],\n",
       "           [0.6510, 0.6627, 0.6745,  ..., 0.6784, 0.6706, 0.6588]]],\n",
       " \n",
       " \n",
       "         [[[0.9294, 0.9412, 0.9490,  ..., 0.9608, 0.9451, 0.9255],\n",
       "           [0.9294, 0.9255, 0.9333,  ..., 0.9569, 0.9412, 0.9176],\n",
       "           [0.9176, 0.9216, 0.9216,  ..., 0.9412, 0.9333, 0.9098],\n",
       "           ...,\n",
       "           [0.8745, 0.8784, 0.8902,  ..., 0.8902, 0.8902, 0.8863],\n",
       "           [0.8706, 0.8745, 0.8824,  ..., 0.8902, 0.8863, 0.8824],\n",
       "           [0.8588, 0.8706, 0.8784,  ..., 0.8902, 0.8863, 0.8863]],\n",
       " \n",
       "          [[0.5647, 0.5765, 0.5804,  ..., 0.6235, 0.6157, 0.6039],\n",
       "           [0.5647, 0.5686, 0.5765,  ..., 0.6196, 0.6118, 0.5961],\n",
       "           [0.5608, 0.5647, 0.5647,  ..., 0.6157, 0.6078, 0.5922],\n",
       "           ...,\n",
       "           [0.6118, 0.6157, 0.6196,  ..., 0.6235, 0.6235, 0.6196],\n",
       "           [0.6039, 0.6118, 0.6118,  ..., 0.6235, 0.6275, 0.6235],\n",
       "           [0.6039, 0.6078, 0.6078,  ..., 0.6275, 0.6235, 0.6235]],\n",
       " \n",
       "          [[0.5451, 0.5569, 0.5804,  ..., 0.6745, 0.6745, 0.6588],\n",
       "           [0.5451, 0.5569, 0.5725,  ..., 0.6627, 0.6627, 0.6510],\n",
       "           [0.5412, 0.5529, 0.5608,  ..., 0.6471, 0.6471, 0.6275],\n",
       "           ...,\n",
       "           [0.5882, 0.5922, 0.5922,  ..., 0.5804, 0.5804, 0.5765],\n",
       "           [0.5922, 0.5882, 0.5843,  ..., 0.5804, 0.5804, 0.5765],\n",
       "           [0.5882, 0.5843, 0.5804,  ..., 0.5922, 0.5882, 0.5882]]],\n",
       " \n",
       " \n",
       "         [[[0.7059, 0.7137, 0.7176,  ..., 0.7294, 0.7294, 0.7255],\n",
       "           [0.6941, 0.7020, 0.7137,  ..., 0.7412, 0.7216, 0.7059],\n",
       "           [0.7059, 0.7137, 0.7255,  ..., 0.7412, 0.7255, 0.7098],\n",
       "           ...,\n",
       "           [0.8118, 0.8235, 0.8314,  ..., 0.7765, 0.7686, 0.7529],\n",
       "           [0.8157, 0.8196, 0.8235,  ..., 0.7686, 0.7569, 0.7451],\n",
       "           [0.8157, 0.8118, 0.8118,  ..., 0.7647, 0.7490, 0.7373]],\n",
       " \n",
       "          [[0.4235, 0.4353, 0.4588,  ..., 0.5451, 0.5451, 0.5412],\n",
       "           [0.4118, 0.4235, 0.4549,  ..., 0.5529, 0.5373, 0.5216],\n",
       "           [0.4157, 0.4314, 0.4588,  ..., 0.5451, 0.5294, 0.5137],\n",
       "           ...,\n",
       "           [0.5765, 0.5882, 0.6039,  ..., 0.5843, 0.5765, 0.5725],\n",
       "           [0.5765, 0.5804, 0.5882,  ..., 0.5882, 0.5765, 0.5647],\n",
       "           [0.5765, 0.5725, 0.5765,  ..., 0.5843, 0.5686, 0.5569]],\n",
       " \n",
       "          [[0.4784, 0.4902, 0.5059,  ..., 0.5843, 0.5843, 0.5804],\n",
       "           [0.4588, 0.4784, 0.5020,  ..., 0.6000, 0.5765, 0.5608],\n",
       "           [0.4667, 0.4784, 0.5098,  ..., 0.5922, 0.5765, 0.5608],\n",
       "           ...,\n",
       "           [0.5725, 0.5843, 0.6000,  ..., 0.5961, 0.5882, 0.5804],\n",
       "           [0.5647, 0.5765, 0.5882,  ..., 0.5961, 0.5843, 0.5725],\n",
       "           [0.5647, 0.5686, 0.5725,  ..., 0.5922, 0.5686, 0.5569]]],\n",
       " \n",
       " \n",
       "         ...,\n",
       " \n",
       " \n",
       "         [[[0.8667, 0.8824, 0.8902,  ..., 0.8980, 0.8824, 0.8431],\n",
       "           [0.8745, 0.8784, 0.8824,  ..., 0.8784, 0.8667, 0.8510],\n",
       "           [0.8863, 0.8824, 0.8784,  ..., 0.8627, 0.8588, 0.8667],\n",
       "           ...,\n",
       "           [0.8706, 0.8549, 0.8118,  ..., 0.8549, 0.8431, 0.8431],\n",
       "           [0.8510, 0.8745, 0.8275,  ..., 0.8471, 0.8392, 0.8431],\n",
       "           [0.8314, 0.8824, 0.8353,  ..., 0.8392, 0.8353, 0.8431]],\n",
       " \n",
       "          [[0.5608, 0.5843, 0.5922,  ..., 0.6157, 0.6000, 0.5608],\n",
       "           [0.5765, 0.5804, 0.5843,  ..., 0.5961, 0.5843, 0.5686],\n",
       "           [0.5882, 0.5843, 0.5804,  ..., 0.5765, 0.5725, 0.5804],\n",
       "           ...,\n",
       "           [0.5765, 0.5608, 0.5176,  ..., 0.5804, 0.5765, 0.5765],\n",
       "           [0.5490, 0.5725, 0.5255,  ..., 0.5725, 0.5647, 0.5686],\n",
       "           [0.5294, 0.5804, 0.5333,  ..., 0.5647, 0.5608, 0.5686]],\n",
       " \n",
       "          [[0.6118, 0.6314, 0.6392,  ..., 0.6588, 0.6431, 0.6039],\n",
       "           [0.6235, 0.6275, 0.6235,  ..., 0.6392, 0.6275, 0.6118],\n",
       "           [0.6353, 0.6314, 0.6196,  ..., 0.6118, 0.6078, 0.6157],\n",
       "           ...,\n",
       "           [0.5529, 0.5373, 0.4980,  ..., 0.5725, 0.5647, 0.5647],\n",
       "           [0.5176, 0.5490, 0.5020,  ..., 0.5647, 0.5569, 0.5608],\n",
       "           [0.4980, 0.5569, 0.5098,  ..., 0.5569, 0.5529, 0.5608]]],\n",
       " \n",
       " \n",
       "         [[[0.9098, 0.9176, 0.9255,  ..., 0.9020, 0.8784, 0.8588],\n",
       "           [0.9098, 0.9137, 0.9216,  ..., 0.9255, 0.9059, 0.8863],\n",
       "           [0.9176, 0.9176, 0.9176,  ..., 0.9412, 0.9176, 0.9059],\n",
       "           ...,\n",
       "           [0.9255, 0.9176, 0.9176,  ..., 0.9412, 0.9529, 0.9608],\n",
       "           [0.9294, 0.9216, 0.9137,  ..., 0.9373, 0.9412, 0.9569],\n",
       "           [0.9255, 0.9137, 0.9020,  ..., 0.9137, 0.9176, 0.9373]],\n",
       " \n",
       "          [[0.7137, 0.7216, 0.7255,  ..., 0.7216, 0.6980, 0.6784],\n",
       "           [0.7137, 0.7176, 0.7216,  ..., 0.7373, 0.7176, 0.7059],\n",
       "           [0.7216, 0.7176, 0.7176,  ..., 0.7412, 0.7294, 0.7216],\n",
       "           ...,\n",
       "           [0.6431, 0.6353, 0.6353,  ..., 0.6706, 0.7020, 0.7255],\n",
       "           [0.6471, 0.6392, 0.6314,  ..., 0.6667, 0.6941, 0.7216],\n",
       "           [0.6431, 0.6314, 0.6196,  ..., 0.6431, 0.6706, 0.7020]],\n",
       " \n",
       "          [[0.7176, 0.7333, 0.7451,  ..., 0.7725, 0.7412, 0.7216],\n",
       "           [0.7255, 0.7294, 0.7412,  ..., 0.7922, 0.7647, 0.7490],\n",
       "           [0.7333, 0.7373, 0.7451,  ..., 0.8000, 0.7765, 0.7608],\n",
       "           ...,\n",
       "           [0.7294, 0.7216, 0.7216,  ..., 0.7804, 0.8039, 0.8235],\n",
       "           [0.7333, 0.7255, 0.7176,  ..., 0.7804, 0.8000, 0.8235],\n",
       "           [0.7216, 0.7098, 0.6980,  ..., 0.7569, 0.7765, 0.8039]]],\n",
       " \n",
       " \n",
       "         [[[0.9255, 0.9216, 0.9176,  ..., 0.9176, 0.9216, 0.9216],\n",
       "           [0.9255, 0.9216, 0.9176,  ..., 0.9176, 0.9216, 0.9216],\n",
       "           [0.9255, 0.9216, 0.9176,  ..., 0.9294, 0.9294, 0.9333],\n",
       "           ...,\n",
       "           [0.8627, 0.8706, 0.8745,  ..., 0.8902, 0.8941, 0.8941],\n",
       "           [0.8549, 0.8627, 0.8706,  ..., 0.8863, 0.8902, 0.8941],\n",
       "           [0.8510, 0.8588, 0.8667,  ..., 0.8863, 0.8863, 0.8941]],\n",
       " \n",
       "          [[0.5765, 0.5725, 0.5686,  ..., 0.6000, 0.6039, 0.6039],\n",
       "           [0.5765, 0.5725, 0.5686,  ..., 0.6000, 0.6039, 0.6039],\n",
       "           [0.5765, 0.5725, 0.5686,  ..., 0.6039, 0.6039, 0.6078],\n",
       "           ...,\n",
       "           [0.5765, 0.5843, 0.5882,  ..., 0.6196, 0.6235, 0.6235],\n",
       "           [0.5686, 0.5765, 0.5843,  ..., 0.6235, 0.6275, 0.6314],\n",
       "           [0.5647, 0.5725, 0.5804,  ..., 0.6235, 0.6275, 0.6353]],\n",
       " \n",
       "          [[0.5529, 0.5490, 0.5451,  ..., 0.5843, 0.5882, 0.5882],\n",
       "           [0.5529, 0.5490, 0.5451,  ..., 0.5843, 0.5882, 0.5882],\n",
       "           [0.5529, 0.5490, 0.5451,  ..., 0.5804, 0.5804, 0.5843],\n",
       "           ...,\n",
       "           [0.5176, 0.5255, 0.5294,  ..., 0.5608, 0.5647, 0.5647],\n",
       "           [0.5098, 0.5176, 0.5255,  ..., 0.5608, 0.5647, 0.5686],\n",
       "           [0.5059, 0.5137, 0.5216,  ..., 0.5608, 0.5647, 0.5725]]]],\n",
       "        device='cuda:0'),\n",
       " TensorCategory([0, 0, 1, 0, 0, 0, 1, 0, 0, 1, 0, 1, 1, 0, 1, 1, 0, 1, 1, 0, 0, 1, 1, 1,\n",
       "         1, 0, 0, 1, 1, 0, 0, 0, 1, 0, 1, 0, 1, 0, 1, 0, 1, 0, 1, 1, 1, 1, 0, 1,\n",
       "         0, 1, 0, 1, 1, 1, 0, 1, 0, 1, 1, 0, 0, 0, 0, 0], device='cuda:0'))"
      ]
     },
     "execution_count": 10,
     "metadata": {},
     "output_type": "execute_result"
    }
   ],
   "source": [
    "dls.one_batch()"
   ]
  },
  {
   "cell_type": "code",
   "execution_count": 11,
   "metadata": {},
   "outputs": [
    {
     "data": {
      "image/png": "[encoded data removed]",
      "text/plain": [
       "<Figure size 648x648 with 9 Axes>"
      ]
     },
     "metadata": {
      "needs_background": "light"
     },
     "output_type": "display_data"
    }
   ],
   "source": [
    "dls.show_batch()"
   ]
  },
  {
   "cell_type": "code",
   "execution_count": 12,
   "metadata": {},
   "outputs": [],
   "source": [
    "learn = cnn_learner(dls, resnet34, metrics=error_rate)\n"
   ]
  },
  {
   "cell_type": "code",
   "execution_count": 13,
   "metadata": {},
   "outputs": [
    {
     "data": {
      "text/html": [],
      "text/plain": [
       "<IPython.core.display.HTML object>"
      ]
     },
     "metadata": {},
     "output_type": "display_data"
    },
    {
     "data": {
      "text/plain": [
       "SuggestedLRs(lr_min=0.005754399299621582, lr_steep=1.3182567499825382e-06)"
      ]
     },
     "execution_count": 13,
     "metadata": {},
     "output_type": "execute_result"
    },
    {
     "data": {
      "image/png": "[encoded data removed]",
      "text/plain": [
       "<Figure size 432x288 with 1 Axes>"
      ]
     },
     "metadata": {
      "needs_background": "light"
     },
     "output_type": "display_data"
    }
   ],
   "source": [
    "learn.lr_find()"
   ]
  },
  {
   "cell_type": "code",
   "execution_count": 12,
   "metadata": {},
   "outputs": [
    {
     "data": {
      "text/html": [
       "<table border=\"1\" class=\"dataframe\">\n",
       "  <thead>\n",
       "    <tr style=\"text-align: left;\">\n",
       "      <th>epoch</th>\n",
       "      <th>train_loss</th>\n",
       "      <th>valid_loss</th>\n",
       "      <th>error_rate</th>\n",
       "      <th>time</th>\n",
       "    </tr>\n",
       "  </thead>\n",
       "  <tbody>\n",
       "    <tr>\n",
       "      <td>0</td>\n",
       "      <td>1.188049</td>\n",
       "      <td>1.036879</td>\n",
       "      <td>0.350000</td>\n",
       "      <td>00:00</td>\n",
       "    </tr>\n",
       "  </tbody>\n",
       "</table>"
      ],
      "text/plain": [
       "<IPython.core.display.HTML object>"
      ]
     },
     "metadata": {},
     "output_type": "display_data"
    },
    {
     "data": {
      "text/html": [
       "<table border=\"1\" class=\"dataframe\">\n",
       "  <thead>\n",
       "    <tr style=\"text-align: left;\">\n",
       "      <th>epoch</th>\n",
       "      <th>train_loss</th>\n",
       "      <th>valid_loss</th>\n",
       "      <th>error_rate</th>\n",
       "      <th>time</th>\n",
       "    </tr>\n",
       "  </thead>\n",
       "  <tbody>\n",
       "    <tr>\n",
       "      <td>0</td>\n",
       "      <td>0.811810</td>\n",
       "      <td>0.883642</td>\n",
       "      <td>0.350000</td>\n",
       "      <td>00:00</td>\n",
       "    </tr>\n",
       "    <tr>\n",
       "      <td>1</td>\n",
       "      <td>0.742546</td>\n",
       "      <td>0.670185</td>\n",
       "      <td>0.325000</td>\n",
       "      <td>00:00</td>\n",
       "    </tr>\n",
       "    <tr>\n",
       "      <td>2</td>\n",
       "      <td>0.602157</td>\n",
       "      <td>0.624921</td>\n",
       "      <td>0.325000</td>\n",
       "      <td>00:00</td>\n",
       "    </tr>\n",
       "    <tr>\n",
       "      <td>3</td>\n",
       "      <td>0.571978</td>\n",
       "      <td>0.542548</td>\n",
       "      <td>0.250000</td>\n",
       "      <td>00:00</td>\n",
       "    </tr>\n",
       "  </tbody>\n",
       "</table>"
      ],
      "text/plain": [
       "<IPython.core.display.HTML object>"
      ]
     },
     "metadata": {},
     "output_type": "display_data"
    }
   ],
   "source": [
    "learn.fine_tune(4, 2e-3)"
   ]
  },
  {
   "cell_type": "code",
   "execution_count": 13,
   "metadata": {},
   "outputs": [
    {
     "data": {
      "text/html": [
       "<table border=\"1\" class=\"dataframe\">\n",
       "  <thead>\n",
       "    <tr style=\"text-align: left;\">\n",
       "      <th>epoch</th>\n",
       "      <th>train_loss</th>\n",
       "      <th>valid_loss</th>\n",
       "      <th>error_rate</th>\n",
       "      <th>time</th>\n",
       "    </tr>\n",
       "  </thead>\n",
       "  <tbody>\n",
       "    <tr>\n",
       "      <td>0</td>\n",
       "      <td>0.415673</td>\n",
       "      <td>0.435128</td>\n",
       "      <td>0.225000</td>\n",
       "      <td>00:00</td>\n",
       "    </tr>\n",
       "  </tbody>\n",
       "</table>"
      ],
      "text/plain": [
       "<IPython.core.display.HTML object>"
      ]
     },
     "metadata": {},
     "output_type": "display_data"
    },
    {
     "data": {
      "text/html": [
       "<table border=\"1\" class=\"dataframe\">\n",
       "  <thead>\n",
       "    <tr style=\"text-align: left;\">\n",
       "      <th>epoch</th>\n",
       "      <th>train_loss</th>\n",
       "      <th>valid_loss</th>\n",
       "      <th>error_rate</th>\n",
       "      <th>time</th>\n",
       "    </tr>\n",
       "  </thead>\n",
       "  <tbody>\n",
       "    <tr>\n",
       "      <td>0</td>\n",
       "      <td>0.347689</td>\n",
       "      <td>0.426963</td>\n",
       "      <td>0.200000</td>\n",
       "      <td>00:00</td>\n",
       "    </tr>\n",
       "    <tr>\n",
       "      <td>1</td>\n",
       "      <td>0.304941</td>\n",
       "      <td>0.443181</td>\n",
       "      <td>0.200000</td>\n",
       "      <td>00:00</td>\n",
       "    </tr>\n",
       "    <tr>\n",
       "      <td>2</td>\n",
       "      <td>0.291017</td>\n",
       "      <td>0.471546</td>\n",
       "      <td>0.200000</td>\n",
       "      <td>00:00</td>\n",
       "    </tr>\n",
       "    <tr>\n",
       "      <td>3</td>\n",
       "      <td>0.269005</td>\n",
       "      <td>0.456469</td>\n",
       "      <td>0.200000</td>\n",
       "      <td>00:00</td>\n",
       "    </tr>\n",
       "    <tr>\n",
       "      <td>4</td>\n",
       "      <td>0.235528</td>\n",
       "      <td>0.403307</td>\n",
       "      <td>0.200000</td>\n",
       "      <td>00:00</td>\n",
       "    </tr>\n",
       "    <tr>\n",
       "      <td>5</td>\n",
       "      <td>0.208878</td>\n",
       "      <td>0.378820</td>\n",
       "      <td>0.175000</td>\n",
       "      <td>00:00</td>\n",
       "    </tr>\n",
       "    <tr>\n",
       "      <td>6</td>\n",
       "      <td>0.190758</td>\n",
       "      <td>0.382477</td>\n",
       "      <td>0.175000</td>\n",
       "      <td>00:00</td>\n",
       "    </tr>\n",
       "    <tr>\n",
       "      <td>7</td>\n",
       "      <td>0.174984</td>\n",
       "      <td>0.388995</td>\n",
       "      <td>0.175000</td>\n",
       "      <td>00:00</td>\n",
       "    </tr>\n",
       "    <tr>\n",
       "      <td>8</td>\n",
       "      <td>0.162307</td>\n",
       "      <td>0.417355</td>\n",
       "      <td>0.175000</td>\n",
       "      <td>00:00</td>\n",
       "    </tr>\n",
       "    <tr>\n",
       "      <td>9</td>\n",
       "      <td>0.145503</td>\n",
       "      <td>0.430744</td>\n",
       "      <td>0.150000</td>\n",
       "      <td>00:00</td>\n",
       "    </tr>\n",
       "  </tbody>\n",
       "</table>"
      ],
      "text/plain": [
       "<IPython.core.display.HTML object>"
      ]
     },
     "metadata": {},
     "output_type": "display_data"
    }
   ],
   "source": [
    "learn.fine_tune(10, 2e-3)"
   ]
  },
  {
   "cell_type": "code",
   "execution_count": 14,
   "metadata": {},
   "outputs": [
    {
     "data": {
      "text/html": [],
      "text/plain": [
       "<IPython.core.display.HTML object>"
      ]
     },
     "metadata": {},
     "output_type": "display_data"
    },
    {
     "data": {
      "image/png": "[encoded data removed]",
      "text/plain": [
       "<Figure size 648x648 with 9 Axes>"
      ]
     },
     "metadata": {
      "needs_background": "light"
     },
     "output_type": "display_data"
    }
   ],
   "source": [
    "learn.show_results()"
   ]
  },
  {
   "cell_type": "markdown",
   "metadata": {},
   "source": [
    "### Data Augmentation"
   ]
  },
  {
   "cell_type": "code",
   "execution_count": 17,
   "metadata": {},
   "outputs": [],
   "source": [
    "a_tfms = aug_transforms(mult=1.0, do_flip=True, \n",
    "                        flip_vert=True, max_rotate=10.0, \n",
    "                        min_zoom=1.0, max_zoom=1.05, \n",
    "                        max_lighting=0.2, max_warp=0, \n",
    "                        p_affine=0.75, p_lighting=0.75, \n",
    "                        xtra_tfms=None, \n",
    "                        size=None, mode='bilinear', \n",
    "                        pad_mode='reflection', align_corners=True, \n",
    "                        batch=False, min_scale=1.0)\n",
    "\n",
    "dls_aug = ImageDataLoaders.from_name_re(path, files, r'\\w+_([01]).jpg', batch_tfms=a_tfms) "
   ]
  },
  {
   "cell_type": "code",
   "execution_count": 19,
   "metadata": {},
   "outputs": [
    {
     "data": {
      "image/png": "[encoded data removed]",
      "text/plain": [
       "<Figure size 648x648 with 9 Axes>"
      ]
     },
     "metadata": {
      "needs_background": "light"
     },
     "output_type": "display_data"
    }
   ],
   "source": [
    "dls_aug.show_batch()"
   ]
  },
  {
   "cell_type": "code",
   "execution_count": 30,
   "metadata": {},
   "outputs": [],
   "source": [
    "learn = cnn_learner(dls_aug, resnet34, metrics=error_rate)\n"
   ]
  },
  {
   "cell_type": "code",
   "execution_count": 31,
   "metadata": {},
   "outputs": [
    {
     "data": {
      "text/html": [],
      "text/plain": [
       "<IPython.core.display.HTML object>"
      ]
     },
     "metadata": {},
     "output_type": "display_data"
    },
    {
     "data": {
      "text/plain": [
       "SuggestedLRs(lr_min=0.012022644281387329, lr_steep=6.309573450380412e-07)"
      ]
     },
     "execution_count": 31,
     "metadata": {},
     "output_type": "execute_result"
    },
    {
     "data": {
      "image/png": "[encoded data removed]",
      "text/plain": [
       "<Figure size 432x288 with 1 Axes>"
      ]
     },
     "metadata": {
      "needs_background": "light"
     },
     "output_type": "display_data"
    }
   ],
   "source": [
    "learn.lr_find()\n"
   ]
  },
  {
   "cell_type": "code",
   "execution_count": 32,
   "metadata": {},
   "outputs": [
    {
     "data": {
      "text/html": [
       "<table border=\"1\" class=\"dataframe\">\n",
       "  <thead>\n",
       "    <tr style=\"text-align: left;\">\n",
       "      <th>epoch</th>\n",
       "      <th>train_loss</th>\n",
       "      <th>valid_loss</th>\n",
       "      <th>error_rate</th>\n",
       "      <th>time</th>\n",
       "    </tr>\n",
       "  </thead>\n",
       "  <tbody>\n",
       "    <tr>\n",
       "      <td>0</td>\n",
       "      <td>1.137361</td>\n",
       "      <td>15.524875</td>\n",
       "      <td>0.550000</td>\n",
       "      <td>00:00</td>\n",
       "    </tr>\n",
       "    <tr>\n",
       "      <td>1</td>\n",
       "      <td>1.865344</td>\n",
       "      <td>6.870158</td>\n",
       "      <td>0.375000</td>\n",
       "      <td>00:00</td>\n",
       "    </tr>\n",
       "    <tr>\n",
       "      <td>2</td>\n",
       "      <td>2.039989</td>\n",
       "      <td>8.864294</td>\n",
       "      <td>0.250000</td>\n",
       "      <td>00:00</td>\n",
       "    </tr>\n",
       "    <tr>\n",
       "      <td>3</td>\n",
       "      <td>1.969149</td>\n",
       "      <td>7.252105</td>\n",
       "      <td>0.350000</td>\n",
       "      <td>00:00</td>\n",
       "    </tr>\n",
       "    <tr>\n",
       "      <td>4</td>\n",
       "      <td>1.928474</td>\n",
       "      <td>5.772317</td>\n",
       "      <td>0.300000</td>\n",
       "      <td>00:00</td>\n",
       "    </tr>\n",
       "  </tbody>\n",
       "</table>"
      ],
      "text/plain": [
       "<IPython.core.display.HTML object>"
      ]
     },
     "metadata": {},
     "output_type": "display_data"
    }
   ],
   "source": [
    "lr = 0.1\n",
    "\n",
    "learn.fit_one_cycle(5, slice(lr))\n"
   ]
  },
  {
   "cell_type": "code",
   "execution_count": 33,
   "metadata": {},
   "outputs": [
    {
     "data": {
      "text/html": [
       "<table border=\"1\" class=\"dataframe\">\n",
       "  <thead>\n",
       "    <tr style=\"text-align: left;\">\n",
       "      <th>epoch</th>\n",
       "      <th>train_loss</th>\n",
       "      <th>valid_loss</th>\n",
       "      <th>error_rate</th>\n",
       "      <th>time</th>\n",
       "    </tr>\n",
       "  </thead>\n",
       "  <tbody>\n",
       "    <tr>\n",
       "      <td>0</td>\n",
       "      <td>2.238825</td>\n",
       "      <td>4.997379</td>\n",
       "      <td>0.375000</td>\n",
       "      <td>00:00</td>\n",
       "    </tr>\n",
       "    <tr>\n",
       "      <td>1</td>\n",
       "      <td>2.289570</td>\n",
       "      <td>3.394469</td>\n",
       "      <td>0.325000</td>\n",
       "      <td>00:00</td>\n",
       "    </tr>\n",
       "    <tr>\n",
       "      <td>2</td>\n",
       "      <td>2.100683</td>\n",
       "      <td>4.780074</td>\n",
       "      <td>0.400000</td>\n",
       "      <td>00:00</td>\n",
       "    </tr>\n",
       "    <tr>\n",
       "      <td>3</td>\n",
       "      <td>1.837741</td>\n",
       "      <td>4.670833</td>\n",
       "      <td>0.375000</td>\n",
       "      <td>00:00</td>\n",
       "    </tr>\n",
       "    <tr>\n",
       "      <td>4</td>\n",
       "      <td>1.685259</td>\n",
       "      <td>3.756935</td>\n",
       "      <td>0.375000</td>\n",
       "      <td>00:00</td>\n",
       "    </tr>\n",
       "  </tbody>\n",
       "</table>"
      ],
      "text/plain": [
       "<IPython.core.display.HTML object>"
      ]
     },
     "metadata": {},
     "output_type": "display_data"
    }
   ],
   "source": [
    "learn.fit_one_cycle(5, slice(lr))\n"
   ]
  },
  {
   "cell_type": "code",
   "execution_count": 34,
   "metadata": {},
   "outputs": [],
   "source": [
    "learn.unfreeze()\n"
   ]
  },
  {
   "cell_type": "code",
   "execution_count": 35,
   "metadata": {},
   "outputs": [
    {
     "data": {
      "text/html": [],
      "text/plain": [
       "<IPython.core.display.HTML object>"
      ]
     },
     "metadata": {},
     "output_type": "display_data"
    },
    {
     "data": {
      "text/plain": [
       "SuggestedLRs(lr_min=0.001096478197723627, lr_steep=1.0964781722577754e-06)"
      ]
     },
     "execution_count": 35,
     "metadata": {},
     "output_type": "execute_result"
    },
    {
     "data": {
      "image/png": "[encoded data removed]",
      "text/plain": [
       "<Figure size 432x288 with 1 Axes>"
      ]
     },
     "metadata": {
      "needs_background": "light"
     },
     "output_type": "display_data"
    }
   ],
   "source": [
    "learn.lr_find()"
   ]
  },
  {
   "cell_type": "code",
   "execution_count": 36,
   "metadata": {},
   "outputs": [
    {
     "data": {
      "text/html": [
       "<table border=\"1\" class=\"dataframe\">\n",
       "  <thead>\n",
       "    <tr style=\"text-align: left;\">\n",
       "      <th>epoch</th>\n",
       "      <th>train_loss</th>\n",
       "      <th>valid_loss</th>\n",
       "      <th>error_rate</th>\n",
       "      <th>time</th>\n",
       "    </tr>\n",
       "  </thead>\n",
       "  <tbody>\n",
       "    <tr>\n",
       "      <td>0</td>\n",
       "      <td>0.940438</td>\n",
       "      <td>3.071808</td>\n",
       "      <td>0.400000</td>\n",
       "      <td>00:00</td>\n",
       "    </tr>\n",
       "    <tr>\n",
       "      <td>1</td>\n",
       "      <td>1.035278</td>\n",
       "      <td>2.391886</td>\n",
       "      <td>0.250000</td>\n",
       "      <td>00:00</td>\n",
       "    </tr>\n",
       "    <tr>\n",
       "      <td>2</td>\n",
       "      <td>1.055366</td>\n",
       "      <td>2.857996</td>\n",
       "      <td>0.250000</td>\n",
       "      <td>00:00</td>\n",
       "    </tr>\n",
       "    <tr>\n",
       "      <td>3</td>\n",
       "      <td>0.999539</td>\n",
       "      <td>3.636337</td>\n",
       "      <td>0.275000</td>\n",
       "      <td>00:00</td>\n",
       "    </tr>\n",
       "    <tr>\n",
       "      <td>4</td>\n",
       "      <td>1.092296</td>\n",
       "      <td>3.995049</td>\n",
       "      <td>0.275000</td>\n",
       "      <td>00:00</td>\n",
       "    </tr>\n",
       "  </tbody>\n",
       "</table>"
      ],
      "text/plain": [
       "<IPython.core.display.HTML object>"
      ]
     },
     "metadata": {},
     "output_type": "display_data"
    }
   ],
   "source": [
    "\n",
    "learn.fit_one_cycle(5, slice(3e-6, lr/5))\n"
   ]
  },
  {
   "cell_type": "code",
   "execution_count": 37,
   "metadata": {},
   "outputs": [
    {
     "data": {
      "text/html": [
       "<table border=\"1\" class=\"dataframe\">\n",
       "  <thead>\n",
       "    <tr style=\"text-align: left;\">\n",
       "      <th>epoch</th>\n",
       "      <th>train_loss</th>\n",
       "      <th>valid_loss</th>\n",
       "      <th>error_rate</th>\n",
       "      <th>time</th>\n",
       "    </tr>\n",
       "  </thead>\n",
       "  <tbody>\n",
       "    <tr>\n",
       "      <td>0</td>\n",
       "      <td>1.417970</td>\n",
       "      <td>4.228349</td>\n",
       "      <td>0.275000</td>\n",
       "      <td>00:00</td>\n",
       "    </tr>\n",
       "    <tr>\n",
       "      <td>1</td>\n",
       "      <td>1.070969</td>\n",
       "      <td>4.169873</td>\n",
       "      <td>0.300000</td>\n",
       "      <td>00:00</td>\n",
       "    </tr>\n",
       "    <tr>\n",
       "      <td>2</td>\n",
       "      <td>0.927156</td>\n",
       "      <td>4.442315</td>\n",
       "      <td>0.300000</td>\n",
       "      <td>00:00</td>\n",
       "    </tr>\n",
       "    <tr>\n",
       "      <td>3</td>\n",
       "      <td>0.896741</td>\n",
       "      <td>4.649290</td>\n",
       "      <td>0.325000</td>\n",
       "      <td>00:00</td>\n",
       "    </tr>\n",
       "    <tr>\n",
       "      <td>4</td>\n",
       "      <td>0.783363</td>\n",
       "      <td>4.720419</td>\n",
       "      <td>0.325000</td>\n",
       "      <td>00:00</td>\n",
       "    </tr>\n",
       "    <tr>\n",
       "      <td>5</td>\n",
       "      <td>0.732385</td>\n",
       "      <td>4.545812</td>\n",
       "      <td>0.300000</td>\n",
       "      <td>00:00</td>\n",
       "    </tr>\n",
       "    <tr>\n",
       "      <td>6</td>\n",
       "      <td>0.728618</td>\n",
       "      <td>4.584867</td>\n",
       "      <td>0.275000</td>\n",
       "      <td>00:00</td>\n",
       "    </tr>\n",
       "    <tr>\n",
       "      <td>7</td>\n",
       "      <td>0.718939</td>\n",
       "      <td>4.239924</td>\n",
       "      <td>0.250000</td>\n",
       "      <td>00:00</td>\n",
       "    </tr>\n",
       "    <tr>\n",
       "      <td>8</td>\n",
       "      <td>0.729759</td>\n",
       "      <td>3.741149</td>\n",
       "      <td>0.300000</td>\n",
       "      <td>00:00</td>\n",
       "    </tr>\n",
       "    <tr>\n",
       "      <td>9</td>\n",
       "      <td>0.716554</td>\n",
       "      <td>2.617474</td>\n",
       "      <td>0.375000</td>\n",
       "      <td>00:00</td>\n",
       "    </tr>\n",
       "    <tr>\n",
       "      <td>10</td>\n",
       "      <td>0.693191</td>\n",
       "      <td>2.084242</td>\n",
       "      <td>0.350000</td>\n",
       "      <td>00:00</td>\n",
       "    </tr>\n",
       "    <tr>\n",
       "      <td>11</td>\n",
       "      <td>0.654946</td>\n",
       "      <td>1.805782</td>\n",
       "      <td>0.325000</td>\n",
       "      <td>00:00</td>\n",
       "    </tr>\n",
       "    <tr>\n",
       "      <td>12</td>\n",
       "      <td>0.636215</td>\n",
       "      <td>1.595425</td>\n",
       "      <td>0.325000</td>\n",
       "      <td>00:00</td>\n",
       "    </tr>\n",
       "    <tr>\n",
       "      <td>13</td>\n",
       "      <td>0.601496</td>\n",
       "      <td>1.470134</td>\n",
       "      <td>0.325000</td>\n",
       "      <td>00:00</td>\n",
       "    </tr>\n",
       "    <tr>\n",
       "      <td>14</td>\n",
       "      <td>0.575097</td>\n",
       "      <td>1.397211</td>\n",
       "      <td>0.275000</td>\n",
       "      <td>00:00</td>\n",
       "    </tr>\n",
       "    <tr>\n",
       "      <td>15</td>\n",
       "      <td>0.555153</td>\n",
       "      <td>1.317474</td>\n",
       "      <td>0.300000</td>\n",
       "      <td>00:00</td>\n",
       "    </tr>\n",
       "    <tr>\n",
       "      <td>16</td>\n",
       "      <td>0.536740</td>\n",
       "      <td>1.271491</td>\n",
       "      <td>0.300000</td>\n",
       "      <td>00:00</td>\n",
       "    </tr>\n",
       "    <tr>\n",
       "      <td>17</td>\n",
       "      <td>0.502966</td>\n",
       "      <td>1.174001</td>\n",
       "      <td>0.300000</td>\n",
       "      <td>00:00</td>\n",
       "    </tr>\n",
       "    <tr>\n",
       "      <td>18</td>\n",
       "      <td>0.486166</td>\n",
       "      <td>1.146618</td>\n",
       "      <td>0.300000</td>\n",
       "      <td>00:00</td>\n",
       "    </tr>\n",
       "    <tr>\n",
       "      <td>19</td>\n",
       "      <td>0.463098</td>\n",
       "      <td>1.154410</td>\n",
       "      <td>0.275000</td>\n",
       "      <td>00:00</td>\n",
       "    </tr>\n",
       "  </tbody>\n",
       "</table>"
      ],
      "text/plain": [
       "<IPython.core.display.HTML object>"
      ]
     },
     "metadata": {},
     "output_type": "display_data"
    }
   ],
   "source": [
    "learn.fit_one_cycle(20, slice(3e-6, lr/5))\n"
   ]
  },
  {
   "cell_type": "code",
   "execution_count": 38,
   "metadata": {},
   "outputs": [
    {
     "data": {
      "text/html": [
       "<table border=\"1\" class=\"dataframe\">\n",
       "  <thead>\n",
       "    <tr style=\"text-align: left;\">\n",
       "      <th>epoch</th>\n",
       "      <th>train_loss</th>\n",
       "      <th>valid_loss</th>\n",
       "      <th>error_rate</th>\n",
       "      <th>time</th>\n",
       "    </tr>\n",
       "  </thead>\n",
       "  <tbody>\n",
       "    <tr>\n",
       "      <td>0</td>\n",
       "      <td>0.305808</td>\n",
       "      <td>1.125229</td>\n",
       "      <td>0.275000</td>\n",
       "      <td>00:00</td>\n",
       "    </tr>\n",
       "    <tr>\n",
       "      <td>1</td>\n",
       "      <td>0.295282</td>\n",
       "      <td>1.101796</td>\n",
       "      <td>0.275000</td>\n",
       "      <td>00:00</td>\n",
       "    </tr>\n",
       "    <tr>\n",
       "      <td>2</td>\n",
       "      <td>0.244472</td>\n",
       "      <td>1.027804</td>\n",
       "      <td>0.275000</td>\n",
       "      <td>00:00</td>\n",
       "    </tr>\n",
       "    <tr>\n",
       "      <td>3</td>\n",
       "      <td>0.246132</td>\n",
       "      <td>1.101199</td>\n",
       "      <td>0.275000</td>\n",
       "      <td>00:00</td>\n",
       "    </tr>\n",
       "    <tr>\n",
       "      <td>4</td>\n",
       "      <td>0.278228</td>\n",
       "      <td>1.340287</td>\n",
       "      <td>0.275000</td>\n",
       "      <td>00:00</td>\n",
       "    </tr>\n",
       "    <tr>\n",
       "      <td>5</td>\n",
       "      <td>0.275888</td>\n",
       "      <td>1.200988</td>\n",
       "      <td>0.300000</td>\n",
       "      <td>00:00</td>\n",
       "    </tr>\n",
       "    <tr>\n",
       "      <td>6</td>\n",
       "      <td>0.297790</td>\n",
       "      <td>1.033825</td>\n",
       "      <td>0.275000</td>\n",
       "      <td>00:00</td>\n",
       "    </tr>\n",
       "    <tr>\n",
       "      <td>7</td>\n",
       "      <td>0.270336</td>\n",
       "      <td>0.969526</td>\n",
       "      <td>0.275000</td>\n",
       "      <td>00:00</td>\n",
       "    </tr>\n",
       "    <tr>\n",
       "      <td>8</td>\n",
       "      <td>0.257995</td>\n",
       "      <td>0.922766</td>\n",
       "      <td>0.250000</td>\n",
       "      <td>00:00</td>\n",
       "    </tr>\n",
       "    <tr>\n",
       "      <td>9</td>\n",
       "      <td>0.249865</td>\n",
       "      <td>0.942109</td>\n",
       "      <td>0.275000</td>\n",
       "      <td>00:00</td>\n",
       "    </tr>\n",
       "  </tbody>\n",
       "</table>"
      ],
      "text/plain": [
       "<IPython.core.display.HTML object>"
      ]
     },
     "metadata": {},
     "output_type": "display_data"
    }
   ],
   "source": [
    "learn.fit_one_cycle(10, slice(3e-6, lr/5))\n"
   ]
  },
  {
   "cell_type": "code",
   "execution_count": 40,
   "metadata": {},
   "outputs": [
    {
     "data": {
      "text/html": [],
      "text/plain": [
       "<IPython.core.display.HTML object>"
      ]
     },
     "metadata": {},
     "output_type": "display_data"
    },
    {
     "data": {
      "text/plain": [
       "SuggestedLRs(lr_min=0.006918309628963471, lr_steep=0.00363078061491251)"
      ]
     },
     "execution_count": 40,
     "metadata": {},
     "output_type": "execute_result"
    },
    {
     "data": {
      "image/png": "[encoded data removed]",
      "text/plain": [
       "<Figure size 432x288 with 1 Axes>"
      ]
     },
     "metadata": {
      "needs_background": "light"
     },
     "output_type": "display_data"
    }
   ],
   "source": [
    "#let \"fine_tune\" handle finding the learning rate and unfreezing for us. \n",
    "\n",
    "learn = cnn_learner(dls_aug, resnet18, metrics=error_rate)\n",
    "learn.lr_find()"
   ]
  },
  {
   "cell_type": "code",
   "execution_count": 41,
   "metadata": {},
   "outputs": [
    {
     "data": {
      "text/html": [
       "<table border=\"1\" class=\"dataframe\">\n",
       "  <thead>\n",
       "    <tr style=\"text-align: left;\">\n",
       "      <th>epoch</th>\n",
       "      <th>train_loss</th>\n",
       "      <th>valid_loss</th>\n",
       "      <th>error_rate</th>\n",
       "      <th>time</th>\n",
       "    </tr>\n",
       "  </thead>\n",
       "  <tbody>\n",
       "    <tr>\n",
       "      <td>0</td>\n",
       "      <td>1.309612</td>\n",
       "      <td>1.075051</td>\n",
       "      <td>0.800000</td>\n",
       "      <td>00:00</td>\n",
       "    </tr>\n",
       "  </tbody>\n",
       "</table>"
      ],
      "text/plain": [
       "<IPython.core.display.HTML object>"
      ]
     },
     "metadata": {},
     "output_type": "display_data"
    },
    {
     "data": {
      "text/html": [
       "<table border=\"1\" class=\"dataframe\">\n",
       "  <thead>\n",
       "    <tr style=\"text-align: left;\">\n",
       "      <th>epoch</th>\n",
       "      <th>train_loss</th>\n",
       "      <th>valid_loss</th>\n",
       "      <th>error_rate</th>\n",
       "      <th>time</th>\n",
       "    </tr>\n",
       "  </thead>\n",
       "  <tbody>\n",
       "    <tr>\n",
       "      <td>0</td>\n",
       "      <td>1.392128</td>\n",
       "      <td>0.973616</td>\n",
       "      <td>0.650000</td>\n",
       "      <td>00:00</td>\n",
       "    </tr>\n",
       "    <tr>\n",
       "      <td>1</td>\n",
       "      <td>1.293713</td>\n",
       "      <td>0.816138</td>\n",
       "      <td>0.550000</td>\n",
       "      <td>00:00</td>\n",
       "    </tr>\n",
       "    <tr>\n",
       "      <td>2</td>\n",
       "      <td>1.193959</td>\n",
       "      <td>0.733325</td>\n",
       "      <td>0.475000</td>\n",
       "      <td>00:00</td>\n",
       "    </tr>\n",
       "    <tr>\n",
       "      <td>3</td>\n",
       "      <td>1.149511</td>\n",
       "      <td>0.689731</td>\n",
       "      <td>0.475000</td>\n",
       "      <td>00:00</td>\n",
       "    </tr>\n",
       "  </tbody>\n",
       "</table>"
      ],
      "text/plain": [
       "<IPython.core.display.HTML object>"
      ]
     },
     "metadata": {},
     "output_type": "display_data"
    }
   ],
   "source": [
    "learn.fine_tune(4, 1e-3, freeze_epochs=1)"
   ]
  },
  {
   "cell_type": "code",
   "execution_count": 42,
   "metadata": {},
   "outputs": [
    {
     "data": {
      "text/html": [
       "<table border=\"1\" class=\"dataframe\">\n",
       "  <thead>\n",
       "    <tr style=\"text-align: left;\">\n",
       "      <th>epoch</th>\n",
       "      <th>train_loss</th>\n",
       "      <th>valid_loss</th>\n",
       "      <th>error_rate</th>\n",
       "      <th>time</th>\n",
       "    </tr>\n",
       "  </thead>\n",
       "  <tbody>\n",
       "    <tr>\n",
       "      <td>0</td>\n",
       "      <td>0.939528</td>\n",
       "      <td>0.650500</td>\n",
       "      <td>0.350000</td>\n",
       "      <td>00:00</td>\n",
       "    </tr>\n",
       "  </tbody>\n",
       "</table>"
      ],
      "text/plain": [
       "<IPython.core.display.HTML object>"
      ]
     },
     "metadata": {},
     "output_type": "display_data"
    },
    {
     "data": {
      "text/html": [
       "<table border=\"1\" class=\"dataframe\">\n",
       "  <thead>\n",
       "    <tr style=\"text-align: left;\">\n",
       "      <th>epoch</th>\n",
       "      <th>train_loss</th>\n",
       "      <th>valid_loss</th>\n",
       "      <th>error_rate</th>\n",
       "      <th>time</th>\n",
       "    </tr>\n",
       "  </thead>\n",
       "  <tbody>\n",
       "    <tr>\n",
       "      <td>0</td>\n",
       "      <td>0.752863</td>\n",
       "      <td>0.617458</td>\n",
       "      <td>0.325000</td>\n",
       "      <td>00:00</td>\n",
       "    </tr>\n",
       "    <tr>\n",
       "      <td>1</td>\n",
       "      <td>0.771099</td>\n",
       "      <td>0.567391</td>\n",
       "      <td>0.300000</td>\n",
       "      <td>00:00</td>\n",
       "    </tr>\n",
       "    <tr>\n",
       "      <td>2</td>\n",
       "      <td>0.818012</td>\n",
       "      <td>0.517706</td>\n",
       "      <td>0.225000</td>\n",
       "      <td>00:00</td>\n",
       "    </tr>\n",
       "    <tr>\n",
       "      <td>3</td>\n",
       "      <td>0.855438</td>\n",
       "      <td>0.503254</td>\n",
       "      <td>0.225000</td>\n",
       "      <td>00:00</td>\n",
       "    </tr>\n",
       "    <tr>\n",
       "      <td>4</td>\n",
       "      <td>0.804947</td>\n",
       "      <td>0.491278</td>\n",
       "      <td>0.200000</td>\n",
       "      <td>00:00</td>\n",
       "    </tr>\n",
       "    <tr>\n",
       "      <td>5</td>\n",
       "      <td>0.793594</td>\n",
       "      <td>0.491161</td>\n",
       "      <td>0.200000</td>\n",
       "      <td>00:00</td>\n",
       "    </tr>\n",
       "    <tr>\n",
       "      <td>6</td>\n",
       "      <td>0.753763</td>\n",
       "      <td>0.467399</td>\n",
       "      <td>0.175000</td>\n",
       "      <td>00:00</td>\n",
       "    </tr>\n",
       "    <tr>\n",
       "      <td>7</td>\n",
       "      <td>0.724516</td>\n",
       "      <td>0.479461</td>\n",
       "      <td>0.200000</td>\n",
       "      <td>00:00</td>\n",
       "    </tr>\n",
       "    <tr>\n",
       "      <td>8</td>\n",
       "      <td>0.716597</td>\n",
       "      <td>0.471296</td>\n",
       "      <td>0.200000</td>\n",
       "      <td>00:00</td>\n",
       "    </tr>\n",
       "    <tr>\n",
       "      <td>9</td>\n",
       "      <td>0.699876</td>\n",
       "      <td>0.467979</td>\n",
       "      <td>0.200000</td>\n",
       "      <td>00:00</td>\n",
       "    </tr>\n",
       "  </tbody>\n",
       "</table>"
      ],
      "text/plain": [
       "<IPython.core.display.HTML object>"
      ]
     },
     "metadata": {},
     "output_type": "display_data"
    }
   ],
   "source": [
    "learn.fine_tune(10, 1e-3, freeze_epochs=1)"
   ]
  },
  {
   "cell_type": "code",
   "execution_count": 43,
   "metadata": {},
   "outputs": [
    {
     "data": {
      "text/html": [
       "<table border=\"1\" class=\"dataframe\">\n",
       "  <thead>\n",
       "    <tr style=\"text-align: left;\">\n",
       "      <th>epoch</th>\n",
       "      <th>train_loss</th>\n",
       "      <th>valid_loss</th>\n",
       "      <th>error_rate</th>\n",
       "      <th>time</th>\n",
       "    </tr>\n",
       "  </thead>\n",
       "  <tbody>\n",
       "    <tr>\n",
       "      <td>0</td>\n",
       "      <td>0.710829</td>\n",
       "      <td>0.471844</td>\n",
       "      <td>0.225000</td>\n",
       "      <td>00:00</td>\n",
       "    </tr>\n",
       "  </tbody>\n",
       "</table>"
      ],
      "text/plain": [
       "<IPython.core.display.HTML object>"
      ]
     },
     "metadata": {},
     "output_type": "display_data"
    },
    {
     "data": {
      "text/html": [
       "<table border=\"1\" class=\"dataframe\">\n",
       "  <thead>\n",
       "    <tr style=\"text-align: left;\">\n",
       "      <th>epoch</th>\n",
       "      <th>train_loss</th>\n",
       "      <th>valid_loss</th>\n",
       "      <th>error_rate</th>\n",
       "      <th>time</th>\n",
       "    </tr>\n",
       "  </thead>\n",
       "  <tbody>\n",
       "    <tr>\n",
       "      <td>0</td>\n",
       "      <td>0.664523</td>\n",
       "      <td>0.504003</td>\n",
       "      <td>0.225000</td>\n",
       "      <td>00:00</td>\n",
       "    </tr>\n",
       "    <tr>\n",
       "      <td>1</td>\n",
       "      <td>0.672916</td>\n",
       "      <td>0.532772</td>\n",
       "      <td>0.225000</td>\n",
       "      <td>00:00</td>\n",
       "    </tr>\n",
       "    <tr>\n",
       "      <td>2</td>\n",
       "      <td>0.631536</td>\n",
       "      <td>0.474776</td>\n",
       "      <td>0.225000</td>\n",
       "      <td>00:00</td>\n",
       "    </tr>\n",
       "    <tr>\n",
       "      <td>3</td>\n",
       "      <td>0.616167</td>\n",
       "      <td>0.474932</td>\n",
       "      <td>0.175000</td>\n",
       "      <td>00:00</td>\n",
       "    </tr>\n",
       "    <tr>\n",
       "      <td>4</td>\n",
       "      <td>0.624394</td>\n",
       "      <td>0.479712</td>\n",
       "      <td>0.200000</td>\n",
       "      <td>00:00</td>\n",
       "    </tr>\n",
       "    <tr>\n",
       "      <td>5</td>\n",
       "      <td>0.642857</td>\n",
       "      <td>0.512335</td>\n",
       "      <td>0.200000</td>\n",
       "      <td>00:00</td>\n",
       "    </tr>\n",
       "    <tr>\n",
       "      <td>6</td>\n",
       "      <td>0.622759</td>\n",
       "      <td>0.554077</td>\n",
       "      <td>0.225000</td>\n",
       "      <td>00:00</td>\n",
       "    </tr>\n",
       "    <tr>\n",
       "      <td>7</td>\n",
       "      <td>0.603494</td>\n",
       "      <td>0.565570</td>\n",
       "      <td>0.225000</td>\n",
       "      <td>00:00</td>\n",
       "    </tr>\n",
       "    <tr>\n",
       "      <td>8</td>\n",
       "      <td>0.601153</td>\n",
       "      <td>0.628113</td>\n",
       "      <td>0.250000</td>\n",
       "      <td>00:00</td>\n",
       "    </tr>\n",
       "    <tr>\n",
       "      <td>9</td>\n",
       "      <td>0.587116</td>\n",
       "      <td>0.661052</td>\n",
       "      <td>0.250000</td>\n",
       "      <td>00:00</td>\n",
       "    </tr>\n",
       "  </tbody>\n",
       "</table>"
      ],
      "text/plain": [
       "<IPython.core.display.HTML object>"
      ]
     },
     "metadata": {},
     "output_type": "display_data"
    }
   ],
   "source": [
    "learn.fine_tune(10, 1e-3, freeze_epochs=1)"
   ]
  },
  {
   "cell_type": "code",
   "execution_count": 4,
   "metadata": {},
   "outputs": [
    {
     "ename": "ModuleNotFoundError",
     "evalue": "No module named 'migrating_pytorch'",
     "output_type": "error",
     "traceback": [
      "\u001b[0;31m---------------------------------------------------------------------------\u001b[0m",
      "\u001b[0;31mModuleNotFoundError\u001b[0m                       Traceback (most recent call last)",
      "\u001b[0;32m<ipython-input-4-906af3409677>\u001b[0m in \u001b[0;36m<module>\u001b[0;34m\u001b[0m\n\u001b[0;32m----> 1\u001b[0;31m \u001b[0;32mfrom\u001b[0m \u001b[0mmigrating_pytorch\u001b[0m \u001b[0;32mimport\u001b[0m \u001b[0;34m*\u001b[0m\u001b[0;34m\u001b[0m\u001b[0;34m\u001b[0m\u001b[0m\n\u001b[0m",
      "\u001b[0;31mModuleNotFoundError\u001b[0m: No module named 'migrating_pytorch'"
     ]
    }
   ],
   "source": [
    "#this never works. \n",
    "from migrating_pytorch import *"
   ]
  },
  {
   "cell_type": "code",
   "execution_count": null,
   "metadata": {},
   "outputs": [],
   "source": [
    "### Less Augmentation"
   ]
  },
  {
   "cell_type": "code",
   "execution_count": 65,
   "metadata": {},
   "outputs": [],
   "source": [
    "a_tfms2 = aug_transforms(flip_vert=True, max_lighting=0, max_zoom=1.00, max_warp=0., size=32)"
   ]
  },
  {
   "cell_type": "code",
   "execution_count": 66,
   "metadata": {},
   "outputs": [],
   "source": [
    "dls_aug2 = ImageDataLoaders.from_name_re(path, files, r'\\w+_([01]).jpg', batch_tfms=a_tfms2) "
   ]
  },
  {
   "cell_type": "code",
   "execution_count": 67,
   "metadata": {},
   "outputs": [
    {
     "data": {
      "image/png": "[encoded data removed]",
      "text/plain": [
       "<Figure size 648x648 with 9 Axes>"
      ]
     },
     "metadata": {
      "needs_background": "light"
     },
     "output_type": "display_data"
    }
   ],
   "source": [
    "dls_aug2.show_batch()"
   ]
  },
  {
   "cell_type": "code",
   "execution_count": 68,
   "metadata": {},
   "outputs": [],
   "source": [
    "learn = cnn_learner(dls_aug2, resnet18, metrics=error_rate)\n"
   ]
  },
  {
   "cell_type": "code",
   "execution_count": 69,
   "metadata": {},
   "outputs": [
    {
     "data": {
      "text/html": [],
      "text/plain": [
       "<IPython.core.display.HTML object>"
      ]
     },
     "metadata": {},
     "output_type": "display_data"
    },
    {
     "data": {
      "text/plain": [
       "SuggestedLRs(lr_min=0.012022644281387329, lr_steep=6.309573450380412e-07)"
      ]
     },
     "execution_count": 69,
     "metadata": {},
     "output_type": "execute_result"
    },
    {
     "data": {
      "image/png": "[encoded data removed]",
      "text/plain": [
       "<Figure size 432x288 with 1 Axes>"
      ]
     },
     "metadata": {
      "needs_background": "light"
     },
     "output_type": "display_data"
    }
   ],
   "source": [
    "learn.lr_find()"
   ]
  },
  {
   "cell_type": "code",
   "execution_count": 70,
   "metadata": {},
   "outputs": [
    {
     "data": {
      "text/html": [
       "<table border=\"1\" class=\"dataframe\">\n",
       "  <thead>\n",
       "    <tr style=\"text-align: left;\">\n",
       "      <th>epoch</th>\n",
       "      <th>train_loss</th>\n",
       "      <th>valid_loss</th>\n",
       "      <th>error_rate</th>\n",
       "      <th>time</th>\n",
       "    </tr>\n",
       "  </thead>\n",
       "  <tbody>\n",
       "    <tr>\n",
       "      <td>0</td>\n",
       "      <td>1.354895</td>\n",
       "      <td>0.879052</td>\n",
       "      <td>0.525000</td>\n",
       "      <td>00:00</td>\n",
       "    </tr>\n",
       "    <tr>\n",
       "      <td>1</td>\n",
       "      <td>1.231988</td>\n",
       "      <td>0.813584</td>\n",
       "      <td>0.575000</td>\n",
       "      <td>00:00</td>\n",
       "    </tr>\n",
       "    <tr>\n",
       "      <td>2</td>\n",
       "      <td>1.182071</td>\n",
       "      <td>0.704337</td>\n",
       "      <td>0.450000</td>\n",
       "      <td>00:00</td>\n",
       "    </tr>\n",
       "  </tbody>\n",
       "</table>"
      ],
      "text/plain": [
       "<IPython.core.display.HTML object>"
      ]
     },
     "metadata": {},
     "output_type": "display_data"
    },
    {
     "data": {
      "text/html": [
       "<table border=\"1\" class=\"dataframe\">\n",
       "  <thead>\n",
       "    <tr style=\"text-align: left;\">\n",
       "      <th>epoch</th>\n",
       "      <th>train_loss</th>\n",
       "      <th>valid_loss</th>\n",
       "      <th>error_rate</th>\n",
       "      <th>time</th>\n",
       "    </tr>\n",
       "  </thead>\n",
       "  <tbody>\n",
       "    <tr>\n",
       "      <td>0</td>\n",
       "      <td>1.038535</td>\n",
       "      <td>0.639508</td>\n",
       "      <td>0.350000</td>\n",
       "      <td>00:00</td>\n",
       "    </tr>\n",
       "    <tr>\n",
       "      <td>1</td>\n",
       "      <td>1.003959</td>\n",
       "      <td>0.584580</td>\n",
       "      <td>0.300000</td>\n",
       "      <td>00:00</td>\n",
       "    </tr>\n",
       "    <tr>\n",
       "      <td>2</td>\n",
       "      <td>0.936806</td>\n",
       "      <td>0.546366</td>\n",
       "      <td>0.250000</td>\n",
       "      <td>00:00</td>\n",
       "    </tr>\n",
       "    <tr>\n",
       "      <td>3</td>\n",
       "      <td>0.910298</td>\n",
       "      <td>0.496243</td>\n",
       "      <td>0.200000</td>\n",
       "      <td>00:00</td>\n",
       "    </tr>\n",
       "    <tr>\n",
       "      <td>4</td>\n",
       "      <td>0.850636</td>\n",
       "      <td>0.452768</td>\n",
       "      <td>0.200000</td>\n",
       "      <td>00:00</td>\n",
       "    </tr>\n",
       "    <tr>\n",
       "      <td>5</td>\n",
       "      <td>0.840784</td>\n",
       "      <td>0.438613</td>\n",
       "      <td>0.175000</td>\n",
       "      <td>00:00</td>\n",
       "    </tr>\n",
       "    <tr>\n",
       "      <td>6</td>\n",
       "      <td>0.799842</td>\n",
       "      <td>0.443978</td>\n",
       "      <td>0.200000</td>\n",
       "      <td>00:00</td>\n",
       "    </tr>\n",
       "    <tr>\n",
       "      <td>7</td>\n",
       "      <td>0.760042</td>\n",
       "      <td>0.457592</td>\n",
       "      <td>0.175000</td>\n",
       "      <td>00:00</td>\n",
       "    </tr>\n",
       "    <tr>\n",
       "      <td>8</td>\n",
       "      <td>0.758324</td>\n",
       "      <td>0.466476</td>\n",
       "      <td>0.175000</td>\n",
       "      <td>00:00</td>\n",
       "    </tr>\n",
       "    <tr>\n",
       "      <td>9</td>\n",
       "      <td>0.723561</td>\n",
       "      <td>0.489171</td>\n",
       "      <td>0.150000</td>\n",
       "      <td>00:00</td>\n",
       "    </tr>\n",
       "    <tr>\n",
       "      <td>10</td>\n",
       "      <td>0.713569</td>\n",
       "      <td>0.497172</td>\n",
       "      <td>0.150000</td>\n",
       "      <td>00:00</td>\n",
       "    </tr>\n",
       "    <tr>\n",
       "      <td>11</td>\n",
       "      <td>0.681674</td>\n",
       "      <td>0.498668</td>\n",
       "      <td>0.125000</td>\n",
       "      <td>00:00</td>\n",
       "    </tr>\n",
       "    <tr>\n",
       "      <td>12</td>\n",
       "      <td>0.663433</td>\n",
       "      <td>0.506295</td>\n",
       "      <td>0.100000</td>\n",
       "      <td>00:00</td>\n",
       "    </tr>\n",
       "    <tr>\n",
       "      <td>13</td>\n",
       "      <td>0.650638</td>\n",
       "      <td>0.515565</td>\n",
       "      <td>0.125000</td>\n",
       "      <td>00:00</td>\n",
       "    </tr>\n",
       "    <tr>\n",
       "      <td>14</td>\n",
       "      <td>0.639910</td>\n",
       "      <td>0.514862</td>\n",
       "      <td>0.125000</td>\n",
       "      <td>00:00</td>\n",
       "    </tr>\n",
       "    <tr>\n",
       "      <td>15</td>\n",
       "      <td>0.621783</td>\n",
       "      <td>0.503501</td>\n",
       "      <td>0.125000</td>\n",
       "      <td>00:00</td>\n",
       "    </tr>\n",
       "    <tr>\n",
       "      <td>16</td>\n",
       "      <td>0.613635</td>\n",
       "      <td>0.497419</td>\n",
       "      <td>0.150000</td>\n",
       "      <td>00:00</td>\n",
       "    </tr>\n",
       "    <tr>\n",
       "      <td>17</td>\n",
       "      <td>0.593014</td>\n",
       "      <td>0.505311</td>\n",
       "      <td>0.125000</td>\n",
       "      <td>00:00</td>\n",
       "    </tr>\n",
       "    <tr>\n",
       "      <td>18</td>\n",
       "      <td>0.579630</td>\n",
       "      <td>0.517846</td>\n",
       "      <td>0.125000</td>\n",
       "      <td>00:00</td>\n",
       "    </tr>\n",
       "    <tr>\n",
       "      <td>19</td>\n",
       "      <td>0.561526</td>\n",
       "      <td>0.516862</td>\n",
       "      <td>0.150000</td>\n",
       "      <td>00:00</td>\n",
       "    </tr>\n",
       "    <tr>\n",
       "      <td>20</td>\n",
       "      <td>0.556949</td>\n",
       "      <td>0.516569</td>\n",
       "      <td>0.150000</td>\n",
       "      <td>00:00</td>\n",
       "    </tr>\n",
       "    <tr>\n",
       "      <td>21</td>\n",
       "      <td>0.540460</td>\n",
       "      <td>0.525001</td>\n",
       "      <td>0.125000</td>\n",
       "      <td>00:00</td>\n",
       "    </tr>\n",
       "    <tr>\n",
       "      <td>22</td>\n",
       "      <td>0.546633</td>\n",
       "      <td>0.539266</td>\n",
       "      <td>0.150000</td>\n",
       "      <td>00:00</td>\n",
       "    </tr>\n",
       "    <tr>\n",
       "      <td>23</td>\n",
       "      <td>0.527150</td>\n",
       "      <td>0.515626</td>\n",
       "      <td>0.125000</td>\n",
       "      <td>00:00</td>\n",
       "    </tr>\n",
       "    <tr>\n",
       "      <td>24</td>\n",
       "      <td>0.516407</td>\n",
       "      <td>0.517209</td>\n",
       "      <td>0.100000</td>\n",
       "      <td>00:00</td>\n",
       "    </tr>\n",
       "  </tbody>\n",
       "</table>"
      ],
      "text/plain": [
       "<IPython.core.display.HTML object>"
      ]
     },
     "metadata": {},
     "output_type": "display_data"
    }
   ],
   "source": [
    "learn.fine_tune(25, 1e-3, freeze_epochs=3)"
   ]
  },
  {
   "cell_type": "code",
   "execution_count": 71,
   "metadata": {},
   "outputs": [
    {
     "data": {
      "text/plain": [
       "Path('data/MelanomaDetection/labeled/models/rn18-1.pth')"
      ]
     },
     "execution_count": 71,
     "metadata": {},
     "output_type": "execute_result"
    }
   ],
   "source": [
    "learn.save('rn18-1')"
   ]
  },
  {
   "cell_type": "code",
   "execution_count": null,
   "metadata": {},
   "outputs": [],
   "source": []
  }
 ],
 "metadata": {
  "kernelspec": {
   "display_name": "fastai-v2",
   "language": "python",
   "name": "fastai-v2"
  },
  "language_info": {
   "codemirror_mode": {
    "name": "ipython",
    "version": 3
   },
   "file_extension": ".py",
   "mimetype": "text/x-python",
   "name": "python",
   "nbconvert_exporter": "python",
   "pygments_lexer": "ipython3",
   "version": "3.8.5"
  }
 },
 "nbformat": 4,
 "nbformat_minor": 4
}
