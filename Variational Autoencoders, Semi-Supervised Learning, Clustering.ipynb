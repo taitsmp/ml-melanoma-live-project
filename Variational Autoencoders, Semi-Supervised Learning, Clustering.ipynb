{
 "cells": [
  {
   "cell_type": "markdown",
   "metadata": {},
   "source": [
    "### Workflow\n",
    "\n",
    "#### Goal\n",
    "\n",
    "* Get first-hand experience in generative modeling by training a Variational Autoencoder on the MNIST set.\n",
    "\n",
    "#### Steps\n",
    "\n",
    "1. Train a VAE generating images of handwritten digits on the MNIST set. You might want to start with a simple autoencoder and build up from there.\n",
    "1. Note that in order to test a regular autoencoder, you should put through it images from the test set. However, in order to test the generative capabilities of a VAE, you should use vectors of random noise. If you plan on displaying the generated images throughout training, it is a good idea to keep the noise vector constant, so that you can directly follow the progress of your generative model.\n",
    "\n",
    "#### Deliverable\n",
    "\n",
    "* This Notebook, with examples of generated output from a VAE.\n",
    "\n",
    "#### Resources\n",
    "\n",
    "* [AutoEncoders - Dimensionality Reduction](https://medium.com/analytics-vidhya/dimension-manipulation-using-autoencoder-in-pytorch-on-mnist-dataset-7454578b018)\n",
    "* [Variational Autoencoders Explained](http://kvfrans.com/variational-autoencoders-explained/)\n",
    "* [Variational Autoencoders in PyTorch](https://vxlabs.com/2017/12/08/variational-autoencoder-in-pytorch-commented-and-annotated/)\n",
    "* [VAE Implementation on Colab by github user smartgeometry-ucl](https://colab.research.google.com/github/smartgeometry-ucl/dl4g/blob/master/variational_autoencoder.ipynb#scrollTo=gGtbRxtJEuw6)\n",
    "\n"
   ]
  },
  {
   "cell_type": "code",
   "execution_count": 2,
   "metadata": {},
   "outputs": [],
   "source": [
    "import os\n",
    "import torch\n",
    "import torch.utils.data\n",
    "from torch import nn, optim\n",
    "from torch.autograd import Variable\n",
    "from torch.nn import functional as F\n",
    "from torchvision import datasets, transforms\n",
    "from torchvision.utils import save_image"
   ]
  },
  {
   "cell_type": "code",
   "execution_count": 3,
   "metadata": {},
   "outputs": [],
   "source": [
    "path = 'data/MelanomaDetection'"
   ]
  },
  {
   "cell_type": "code",
   "execution_count": 4,
   "metadata": {},
   "outputs": [],
   "source": [
    "# might be fun to write this in fast.ai?\n",
    "# model is the same. \n",
    "# optimizer is just adam\n",
    "# loss fuction is harder.\n",
    "# seems like the databunch or transforms would be easy.\n",
    "\n",
    "# for fast.ai you can either extend BaseLoss or extend Module and include a forward function.  See losses.py \n",
    "\n"
   ]
  },
  {
   "cell_type": "code",
   "execution_count": 5,
   "metadata": {},
   "outputs": [],
   "source": [
    "# you could also try to write this in trax.  \n",
    "\n",
    "# try defining the model first.  If you feel like that went well you can try loading the data in a different notebook.\n",
    "\n"
   ]
  },
  {
   "cell_type": "markdown",
   "metadata": {},
   "source": [
    "### Model and Helper Functions"
   ]
  },
  {
   "cell_type": "code",
   "execution_count": 7,
   "metadata": {},
   "outputs": [],
   "source": [
    "class VAE(nn.Module):\n",
    "    \n",
    "    def __init__(self, input_dims, fc_dims):\n",
    "        \n",
    "        super(VAE, self).__init__()\n",
    "        \n",
    "        #shrink - encoder\n",
    "        self.fc1  = nn.Linear(input_dims, fc_dims[0])\n",
    "        self.relu = nn.ReLU() #reuse in encoder and decoder\n",
    "        self.fc_mu  = nn.Linear(fc_dims[0], fc_dims[1]) #mean\n",
    "        self.fc_lv  = nn.Linear(fc_dims[0], fc_dims[1]) #log of the variance (wonder why not std dev?)\n",
    "                  \n",
    "        #grow - decoder\n",
    "        self.fc3 = nn.Linear(fc_dims[1], fc_dims[0])\n",
    "        self.fc4 = nn.Linear(fc_dims[0], input_dims)\n",
    "        \n",
    "        \n",
    "        #used in reconstruction part of the loss by Binary Cross Entropy. \n",
    "        self.sigmoid = nn.Sigmoid()\n",
    "\n",
    "    \n",
    "    # you may not need to pass in the target here. \n",
    "    def forward(self, src):\n",
    "        \n",
    "        mu, logvar = self.encode(src)\n",
    "        sample     = self.latent_sample(*self.reparameterize(mu, logvar)) \n",
    "        decoded    = self.decode(sample)\n",
    "        return (decoded, mu, logvar)\n",
    "    \n",
    "    def encode(self, sample):\n",
    "        \n",
    "        x  = self.relu(self.f1(sample))\n",
    "        mu = self.fc_mu(x)\n",
    "        lv = self.fc_lv(x)\n",
    "        \n",
    "        return mu, lv\n",
    "    \n",
    "    def decode(self, sample):\n",
    "        \n",
    "        x = self.relu(self.fc3(sample))\n",
    "        x = self.fc4(x)\n",
    "        return self.sigmoid(x)\n",
    "        \n",
    "    \n",
    "    # gets the error term from mu and log variance\n",
    "    def reparameterize(self, mu: Variable, logvar: Variable) -> Variable:\n",
    "        \n",
    "        std = logvar.mul(0.5).exp_() #turn the logvar into the std dev.  \n",
    "        eps = torch.empty_like(std).normal_()\n",
    "            \n",
    "        return (mu, std, eps) \n",
    "        \n",
    "    def latent_sample(self, mu: Variable, std: Variable, eps: Variable) -> Variable:\n",
    "       \n",
    "        if self.training:\n",
    "            return eps.mul(std).add_(mu)\n",
    "        \n",
    "        else: #inference   \n",
    "            '''\n",
    "            Options\n",
    "            1. spit out mu (b/c in normal distribution it has the highest prob). Deterministic\n",
    "            2. Use mu and std to create a distributions to sample from. Then perform sampling. Stochastic\n",
    "            \n",
    "            If you want consistent predictions you shouldn't use option 2.\n",
    "            '''\n",
    "            return mu #idea: __init__ takes a param that controls which option above to perform during inference.\n",
    "        \n",
    "\n",
    "\n",
    "def loss_function():\n",
    "    pass\n",
    "    # LEFT OFF HERE.\n",
    "    "
   ]
  },
  {
   "cell_type": "code",
   "execution_count": null,
   "metadata": {},
   "outputs": [],
   "source": []
  },
  {
   "cell_type": "markdown",
   "metadata": {},
   "source": [
    "### Fast.ai\n",
    "\n",
    "Update: I can't remember what the goal was here.\n",
    "\n",
    "* Write a Fast.ai training loop?\n",
    "* Just grab a DataLaoder that I could use with a pytorch training loop. Can't remember interoperability of PyTorch DS and DL. I think they'll work.\n",
    "\n",
    "Let's just write the full training loop in Fast.ai."
   ]
  },
  {
   "cell_type": "code",
   "execution_count": 1,
   "metadata": {},
   "outputs": [],
   "source": [
    "# load the data. No transforms. Just a simple DataBlock?\n",
    "# TODO: ight I want transforms here? \n",
    "\n",
    "from fastai.data.all import *\n",
    "from fastai.vision.all import *\n",
    "\n",
    "dblock = DataBlock(blocks    = (ImageBlock, ImageBlock),\n",
    "                   get_items = get_image_files,\n",
    "                   splitter  = RandomSplitter())"
   ]
  },
  {
   "cell_type": "code",
   "execution_count": 4,
   "metadata": {},
   "outputs": [
    {
     "data": {
      "text/plain": [
       "(PILImage mode=RGB size=32x32, PILImage mode=RGB size=32x32)"
      ]
     },
     "execution_count": 4,
     "metadata": {},
     "output_type": "execute_result"
    }
   ],
   "source": [
    "\n",
    "\n",
    "dsets = dblock.datasets(path + '/unlabeled')\n",
    "dsets.train[0]"
   ]
  },
  {
   "cell_type": "markdown",
   "metadata": {},
   "source": [
    "#### Fastai Training loop"
   ]
  },
  {
   "cell_type": "code",
   "execution_count": null,
   "metadata": {},
   "outputs": [],
   "source": [
    "# this is wrong.  Should also move out of fast.ai loop. \n",
    "model = VAE()"
   ]
  },
  {
   "cell_type": "code",
   "execution_count": null,
   "metadata": {},
   "outputs": [],
   "source": [
    "# this is wrong. fix. \n",
    "learn = Learner(dls, model, loss_func=CrossEntropyLossFlat(), splitter=siamese_splitter, metrics=accuracy)\n"
   ]
  },
  {
   "cell_type": "markdown",
   "metadata": {},
   "source": [
    "### PyTorch"
   ]
  },
  {
   "cell_type": "code",
   "execution_count": null,
   "metadata": {},
   "outputs": [],
   "source": []
  }
 ],
 "metadata": {
  "kernelspec": {
   "display_name": "fastai-v2",
   "language": "python",
   "name": "fastai-v2"
  },
  "language_info": {
   "codemirror_mode": {
    "name": "ipython",
    "version": 3
   },
   "file_extension": ".py",
   "mimetype": "text/x-python",
   "name": "python",
   "nbconvert_exporter": "python",
   "pygments_lexer": "ipython3",
   "version": "3.8.5"
  }
 },
 "nbformat": 4,
 "nbformat_minor": 4
}
